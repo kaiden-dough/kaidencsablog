{
 "cells": [
  {
   "cell_type": "markdown",
   "metadata": {},
   "source": [
    "---\n",
    "toc: true\n",
    "comments: true\n",
    "layout: post\n",
    "title: Algorythmic Reflection\n",
    "courses: { compsci: {week: 26} }\n",
    "type: tangibles\n",
    "---"
   ]
  },
  {
   "cell_type": "markdown",
   "metadata": {},
   "source": [
    "### Personal Work\n",
    "#### Thursday\n",
    "- I reviewed the script and briefly looked at the quick sort to understand the sorting part\n",
    "- I am the grunt so my main job is to dance around and know how to sort myself\n",
    "- Need to learn how to do my sort more and things of that nature\n",
    "#### Friday (Lunch)\n",
    "- I could not make it to the after school meeting, but only the lunch meeting\n",
    "- We reviewed the sorting procedures and how to do them\n",
    "- Went over the script and our roles in each part"
   ]
  },
  {
   "cell_type": "markdown",
   "metadata": {},
   "source": [
    "### Quick Sort"
   ]
  },
  {
   "cell_type": "markdown",
   "metadata": {},
   "source": [
    "### BOGO Sort"
   ]
  },
  {
   "cell_type": "markdown",
   "metadata": {},
   "source": [
    "### Reflection"
   ]
  }
 ],
 "metadata": {
  "kernelspec": {
   "display_name": "Java",
   "language": "java",
   "name": "java"
  },
  "language_info": {
   "name": "java"
  }
 },
 "nbformat": 4,
 "nbformat_minor": 2
}
