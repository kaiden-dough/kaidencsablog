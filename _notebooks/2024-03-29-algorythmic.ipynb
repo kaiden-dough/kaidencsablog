{
 "cells": [
  {
   "cell_type": "markdown",
   "metadata": {},
   "source": [
    "---\n",
    "toc: true\n",
    "comments: true\n",
    "layout: post\n",
    "title: Algorythmic Reflection\n",
    "courses: { compsci: {week: 26} }\n",
    "type: tangibles\n",
    "---"
   ]
  },
  {
   "cell_type": "markdown",
   "metadata": {},
   "source": [
    "### Prep Work\n",
    "#### Thursday\n",
    "- I reviewed the script and briefly looked at the quick sort to understand the sorting part\n",
    "- I am the grunt so my main job is to dance around and know how to sort myself\n",
    "- Need to learn how to do my sort more and things of that nature\n",
    "#### Friday (Lunch)\n",
    "- I could not make it to the after school meeting, but only the lunch meeting\n",
    "- We reviewed the sorting procedures and how to do them\n",
    "- Went over the script and our roles in each part\n",
    "#### Monday\n",
    "- We met at lunch and tutorial to go over what to do in the presentation\n",
    "- We did a couple run throughs and things of that nature\n",
    "- Need to work on our presentation and cohesiveness\n",
    "#### Tuesday\n",
    "- Last meeting at tutorial\n",
    "- Did our last rehearsal\n",
    "- Went over the script stuff at night so we are ready to go"
   ]
  },
  {
   "cell_type": "markdown",
   "metadata": {},
   "source": [
    "### Bubble Sort"
   ]
  },
  {
   "cell_type": "code",
   "execution_count": 9,
   "metadata": {
    "vscode": {
     "languageId": "java"
    }
   },
   "outputs": [
    {
     "name": "stdout",
     "output_type": "stream",
     "text": [
      "Unsorted persons:\n",
      "Kaiden (17)\n",
      "Nikhil (16)\n",
      "Vinay (18)\n",
      "\n",
      "Sorted persons:\n",
      "Nikhil (16)\n",
      "Kaiden (17)\n",
      "Vinay (18)\n"
     ]
    }
   ],
   "source": [
    "class Person {\n",
    "    private String name;\n",
    "    private int age;\n",
    "\n",
    "    public Person(String name, int age) {\n",
    "        this.name = name;\n",
    "        this.age = age;\n",
    "    }\n",
    "\n",
    "    public int getAge() {\n",
    "        return age;\n",
    "    }\n",
    "\n",
    "    @Override\n",
    "    public String toString() {\n",
    "        return name + \" (\" + age + \")\";\n",
    "    }\n",
    "}\n",
    "\n",
    "public class BubbleSort {\n",
    "    public static void main(String[] args) {\n",
    "        Person[] persons = {\n",
    "                new Person(\"Kaiden\", 17),\n",
    "                new Person(\"Nikhil\", 16),\n",
    "                new Person(\"Vinay\", 18)\n",
    "        };\n",
    "        System.out.println(\"Unsorted persons:\");\n",
    "        for (Person person : persons) {\n",
    "            System.out.println(person);\n",
    "        }\n",
    "\n",
    "        bubbleSort(persons);\n",
    "\n",
    "        System.out.println(\"\\nSorted persons:\");\n",
    "        for (Person person : persons) {\n",
    "            System.out.println(person);\n",
    "        }\n",
    "    }\n",
    "\n",
    "    public static void bubbleSort(Person[] arr) {\n",
    "        int n = arr.length;\n",
    "        for (int i = 0; i < n - 1; i++) {\n",
    "            for (int j = 0; j < n - i - 1; j++) {\n",
    "                if (arr[j].getAge() > arr[j + 1].getAge()) {\n",
    "                    Person temp = arr[j];\n",
    "                    arr[j] = arr[j + 1];\n",
    "                    arr[j + 1] = temp;\n",
    "                }\n",
    "            }\n",
    "        }\n",
    "    }\n",
    "}\n",
    "BubbleSort.main(null);"
   ]
  },
  {
   "cell_type": "markdown",
   "metadata": {},
   "source": [
    "### Selection Sort"
   ]
  },
  {
   "cell_type": "code",
   "execution_count": null,
   "metadata": {
    "vscode": {
     "languageId": "java"
    }
   },
   "outputs": [],
   "source": []
  },
  {
   "cell_type": "markdown",
   "metadata": {},
   "source": [
    "### Insertion Sort"
   ]
  },
  {
   "cell_type": "code",
   "execution_count": null,
   "metadata": {
    "vscode": {
     "languageId": "java"
    }
   },
   "outputs": [],
   "source": []
  },
  {
   "cell_type": "markdown",
   "metadata": {},
   "source": [
    "### Merge Sort"
   ]
  },
  {
   "cell_type": "code",
   "execution_count": null,
   "metadata": {
    "vscode": {
     "languageId": "java"
    }
   },
   "outputs": [],
   "source": []
  },
  {
   "cell_type": "markdown",
   "metadata": {},
   "source": [
    "### Quick Sort "
   ]
  },
  {
   "cell_type": "code",
   "execution_count": null,
   "metadata": {
    "vscode": {
     "languageId": "java"
    }
   },
   "outputs": [],
   "source": []
  },
  {
   "cell_type": "markdown",
   "metadata": {},
   "source": [
    "### Reflection"
   ]
  }
 ],
 "metadata": {
  "kernelspec": {
   "display_name": "Java",
   "language": "java",
   "name": "java"
  },
  "language_info": {
   "codemirror_mode": "java",
   "file_extension": ".jshell",
   "mimetype": "text/x-java-source",
   "name": "Java",
   "pygments_lexer": "java",
   "version": "11.0.17+8-post-Ubuntu-1ubuntu220.04"
  }
 },
 "nbformat": 4,
 "nbformat_minor": 2
}
