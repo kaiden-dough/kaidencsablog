{
 "cells": [
  {
   "cell_type": "markdown",
   "metadata": {},
   "source": [
    "---\n",
    "toc: true\n",
    "comments: true\n",
    "layout: post\n",
    "title: Check Blog \n",
    "courses: { compsci: {week: 18} }\n",
    "type: tangibles\n",
    "---"
   ]
  },
  {
   "cell_type": "markdown",
   "metadata": {},
   "source": [
    "# My Table\n",
    "## P1, Kaiden Do, Happy New Year\n",
    "|  | Score, Grader Verification | Runtime | Extras | Key Indicators: Blog, GitHub File(s) and Key Commits|\n",
    "|-- | -- | -- | -- | --|\n",
    "|SASS hacks |  0.95/1.0 Vardaan |  [Link](https://kaiden-dough.github.io/kaidencsablog/2023/12/05/FinalSASSLesson_IPYNB_2_.html)  | N/A  |  [Link](https://github.com/kaiden-dough/kaidencsablog/commit/9d5170749f4f375ef90433243066610bf18037f2#diff-71a1a5dc2d95111d76d7a97a9d729574b30b93e46e6c9a85c0c0784f64379d26R104) |\n",
    "|jQuery hacks |  0.86/1.0\tJustin | [Link](https://kaiden-dough.github.io/kaidencsablog/2023/12/07/CRUD-JQUERY-HACKS_IPYNB_2_.html)  | N/A  | [Link](https://github.com/kaiden-dough/kaidencsablog/commit/d723c0106864d2185d78029a5a1af4ea52820b10#diff-925d8171669e0ed6aa55dbd7c61898a8441d0af230d3e7245187ca85e5585676) |\n",
    "|Thymeleaf hacks | No Lesson  |  No Lesson |  No Lesson | No Lesson |\n",
    "|SQL, HashMap  hacks |  0.9/1.0 Sreeja | [Link](https://kaiden-dough.github.io/kaidencsablog/2023/12/13/HashmapsHashsetsCollections_IPYNB_2_.html)  |  N/A  | [Link](https://github.com/kaiden-dough/kaidencsablog/commit/9cb27a108d7a85706e6719e4bbb3c4874f9fdc6a)  |\n",
    "|JWT hacks | 0.93/1.0 Emma  | [Link](https://kaiden-dough.github.io/kaidencsablog/2023/12/19/JWTLesson_IPYNB_2_.html)  |  Got the postman to work |  [Link](https://github.com/kaiden-dough/kaidencsablog/commit/15aa03f8707b336f9c8d91df7f4328f766c58121)|\n",
    "|CORS, dotEnv, Exploits hacks | 1.0/1.0 Our Lesson  |  [Our Lesson](https://davidvasilev1.github.io/CSAsite/posts/JavaExploitsTeacher/) | Our Lesson  | Our Lesson |\n",
    "|CB Quiz |  35/ 39 1.81/2.0 |  [Link](https://kaiden-dough.github.io/kaidencsablog/2023/12/20/collegeboardtest.html) |  N/A | N/A |\n",
    "|  |   |   |   ||  \n",
    "|Totals | Median Score: 0.93/1.0 | Number complete: 6| Extra effort count: 1| Key commit count: 4|\n",
    "\n",
    "<!--EndFragment-->\n",
    "</body>\n",
    "</html>\n",
    "\n",
    "# Sorting and Fibonacci Project\n",
    "[Sorting](https://csa-tri-2.github.io/JDK-miniproject/sorting) and [Fibonacci](https://csa-tri-2.github.io/JDK-miniproject/fibonacci)\n",
    "\n",
    "# College Board Test\n",
    "[Link](https://kaiden-dough.github.io/kaidencsablog/2023/12/20/collegeboardtest.html)"
   ]
  },
  {
   "cell_type": "markdown",
   "metadata": {},
   "source": [
    "# My Timebox\n",
    "[Link](https://kaiden-dough.github.io/kaidencsablog/compsci)\n",
    "\n",
    "# Commits\n",
    "![image](https://github.com/nighthawkcoders/teacher_portfolio/assets/69410126/53bd4ea4-1274-4ff2-ba98-b1ab2ea1afbd)\n",
    "- The gaps that are seen are due to Thanksgiving and Winter Break.\n",
    "\n",
    "# Upcoming Project\n",
    "- Biomarker Classification: what it this, I am open to new things and I am excited to find new applications for code in the world.\n",
    "- The neural network would teach me how to utilize machine learning and artificial intelligence to use in future projects with my fitness ai app."
   ]
  }
 ],
 "metadata": {
  "language_info": {
   "name": "python"
  }
 },
 "nbformat": 4,
 "nbformat_minor": 2
}
