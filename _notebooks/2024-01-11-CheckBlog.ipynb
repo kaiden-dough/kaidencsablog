{
 "cells": [
  {
   "cell_type": "markdown",
   "metadata": {},
   "source": [
    "---\n",
    "toc: true\n",
    "comments: true\n",
    "layout: post\n",
    "title: Check Blog \n",
    "courses: { compsci: {week: 18} }\n",
    "type: tangibles\n",
    "---"
   ]
  },
  {
   "cell_type": "markdown",
   "metadata": {},
   "source": [
    "# My Table\n",
    "## P1, Kaiden Do, Happy New Year\n",
    "[Link](https://github.com/nighthawkcoders/teacher_portfolio/issues/91#issuecomment-1884049633)\n",
    "\n",
    "\n",
    "# Sorting and Fibonacci Project\n",
    "[Sorting](https://csa-tri-2.github.io/JDK-miniproject/sorting) and [Fibonacci](https://csa-tri-2.github.io/JDK-miniproject/fibonacci)\n",
    "\n",
    "# College Board Test\n",
    "[Link](https://kaiden-dough.github.io/kaidencsablog/2023/12/20/collegeboardtest.html)"
   ]
  },
  {
   "cell_type": "markdown",
   "metadata": {},
   "source": [
    "# My Timebox\n",
    "[Link](https://kaiden-dough.github.io/kaidencsablog/compsci)\n",
    "\n",
    "# Commits\n",
    "![image](https://github.com/nighthawkcoders/teacher_portfolio/assets/69410126/53bd4ea4-1274-4ff2-ba98-b1ab2ea1afbd)\n",
    "- The gaps that are seen are due to Thanksgiving and Winter Break.\n",
    "\n",
    "# Upcoming Project\n",
    "- Biomarker Classification: what it this, I am open to new things and I am excited to find new applications for code in the world.\n",
    "- The neural network would teach me how to utilize machine learning and artificial intelligence to use in future projects with my fitness ai app."
   ]
  }
 ],
 "metadata": {
  "language_info": {
   "name": "python"
  }
 },
 "nbformat": 4,
 "nbformat_minor": 2
}
