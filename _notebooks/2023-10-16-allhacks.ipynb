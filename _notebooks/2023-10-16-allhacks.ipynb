{
 "cells": [
  {
   "attachments": {},
   "cell_type": "markdown",
   "metadata": {},
   "source": [
    "---\n",
    "toc: true\n",
    "comments: true\n",
    "layout: post\n",
    "title: Unit 5 Lesson HACKS\n",
    "---"
   ]
  },
  {
   "attachments": {},
   "cell_type": "markdown",
   "metadata": {},
   "source": [
    "# Hacks"
   ]
  },
  {
   "attachments": {},
   "cell_type": "markdown",
   "metadata": {},
   "source": [
    "**5.1-5.3 Hacks**\n",
    "\n",
    "**POPCORN HACKS: 0.2**\n",
    "\n",
    "**Create a simple To-Do List that utilizes the following (0.8):**\n",
    "\n",
    "1. Private and Public Declaration\n",
    "\n",
    "2. Constructor\n",
    "\n",
    "3. Mutable Array containing To-Do List Items\n",
    "\n",
    "Make sure to add descriptive comments that are describing your code!"
   ]
  },
  {
   "cell_type": "code",
   "execution_count": 9,
   "metadata": {},
   "outputs": [
    {
     "name": "stdout",
     "output_type": "stream",
     "text": [
      "[Eat food, Do homework, Sleep]\n",
      "[Eat food, Do homework]\n"
     ]
    }
   ],
   "source": [
    "public class TodoList {\n",
    "    private ArrayList<String> list; //this sets the list with private declaration\n",
    "    public TodoList() {\n",
    "        list = new ArrayList<>();\n",
    "    }\n",
    "    public ArrayList<String> getList() { //this is to get the list\n",
    "        return list;\n",
    "    }\n",
    "    public void addToList(String todo) { //this lets you add todos to the list\n",
    "        list.add(todo);\n",
    "    }\n",
    "\n",
    "    public void removeFromList(int index) { // lets you remove from the list\n",
    "        list.remove(index);\n",
    "    }\n",
    "    public static void main(String[] args) {\n",
    "        TodoList list = new TodoList(); // construct the instance of the class\n",
    "        list.addToList(\"Eat food\"); // adding todos\n",
    "        list.addToList(\"Do homework\");\n",
    "        list.addToList(\"Sleep\");\n",
    "        System.out.println(list.getList());\n",
    "        list.removeFromList(2); // removing the last todo\n",
    "        System.out.println(list.getList());\n",
    "    }\n",
    "}\n",
    "TodoList.main(null);"
   ]
  },
  {
   "attachments": {},
   "cell_type": "markdown",
   "metadata": {},
   "source": [
    "**5.9-5.10 Hacks**\n",
    "\n",
    "**POPCORN HACKS: 0.2**\n",
    "\n",
    "**Write a two sentence reflection on the social and ethical implications of programming. (0.8)**\n",
    "\n",
    "In programming legal issues and intellectual property and data privacy are big concerns and programmers need to follow the terms of licensing. Software may have harmful impacts to society and software has changed how people do things like communicate and access information."
   ]
  }
 ],
 "metadata": {
  "kernelspec": {
   "display_name": "Java",
   "language": "java",
   "name": "java"
  },
  "language_info": {
   "codemirror_mode": "java",
   "file_extension": ".jshell",
   "mimetype": "text/x-java-source",
   "name": "java",
   "pygments_lexer": "java",
   "version": "11.0.20+8-post-Ubuntu-1ubuntu120.04"
  },
  "orig_nbformat": 4,
  "vscode": {
   "interpreter": {
    "hash": "e7370f93d1d0cde622a1f8e1c04877d8463912d04d973331ad4851f04de6915a"
   }
  }
 },
 "nbformat": 4,
 "nbformat_minor": 2
}
