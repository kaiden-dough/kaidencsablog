{
 "cells": [
  {
   "cell_type": "markdown",
   "metadata": {},
   "source": [
    "---\n",
    "title: FRQ Array/ArrayList \n",
    "layout: post\n",
    "comments: true\n",
    "type: tangibles\n",
    "courses: { compsci: {week: 4} }\n",
    "---"
   ]
  },
  {
   "cell_type": "markdown",
   "metadata": {},
   "source": [
    "![image](https://github.com/kaiden-dough/kaidencsablog/assets/69410126/7de4ba0b-2fac-4945-8a15-cc3570b0c519)\n",
    "![image](https://github.com/kaiden-dough/kaidencsablog/assets/69410126/4a9f058f-3242-48e0-9da5-ba2026ccdac9)"
   ]
  },
  {
   "cell_type": "markdown",
   "metadata": {},
   "source": [
    "## What is happening?\n",
    "This code is for a high school clube that desires to store their club members with their name, the graduation year, and if they are in good standing."
   ]
  },
  {
   "cell_type": "code",
   "execution_count": 11,
   "metadata": {
    "vscode": {
     "languageId": "java"
    }
   },
   "outputs": [],
   "source": [
    "import java.util.ArrayList;\n",
    "public class MemberInfo{ // filling in the code that College Board did not provide\n",
    "    private String name;\n",
    "    private int gradYear;\n",
    "    private boolean hasGoodStanding;\n",
    "    public MemberInfo(String name, int gradYear, boolean hasGoodStanding){\n",
    "        this.name = name;\n",
    "        this.gradYear = gradYear;\n",
    "        this.hasGoodStanding = hasGoodStanding;\n",
    "    }\n",
    "    public int getGradYear(){\n",
    "        return gradYear;\n",
    "    }\n",
    "    public boolean inGoodStanding(){\n",
    "        return hasGoodStanding;\n",
    "    }\n",
    "}"
   ]
  },
  {
   "cell_type": "markdown",
   "metadata": {},
   "source": [
    "![image](https://github.com/kaiden-dough/kaidencsablog/assets/69410126/06179dcd-e6fb-4d66-b88e-ca64ce4ee712)"
   ]
  },
  {
   "cell_type": "markdown",
   "metadata": {},
   "source": [
    "## Part A\n",
    "This question wants me to create a method that allows the club to add members to the the MemberInfo ArrayList. They want to be able to add a bunch of names under the same graduation year."
   ]
  },
  {
   "cell_type": "code",
   "execution_count": 12,
   "metadata": {
    "vscode": {
     "languageId": "java"
    }
   },
   "outputs": [],
   "source": [
    "public class ClubMembers{\n",
    "    private ArrayList<MemberInfo> memberList;\n",
    "    public ClubMembers(){\n",
    "        memberList = new ArrayList<>(); // making the empty memberList\n",
    "    }\n",
    "    public void addMember (String[] names, int gradYear){\n",
    "        for (int i = 0; i < names.length; i++){\n",
    "            MemberInfo mem = new MemberInfo(names[i], gradYear, true); // iterating through each person and adding them as good standing\n",
    "            MemberList.add(mem);\n",
    "        }\n",
    "    }\n",
    "    public ArrayList<MemberInfo> removeMembers(int year){\n",
    "        ArrayList<MemberInfo> remove = new ArrayList<>();\n",
    "        for (int i = memberList.size()-1; i>=0;i--){ // iterating through everyone and seeing if they are too low of year, and then deleting them. If they are not in good standing they are not returned, but are returned if are in good standing\n",
    "            MemberInfo member = memberList.get(i);\n",
    "            if (member.getGradYear() <= year){\n",
    "                if(member.inGoodStanding()){\n",
    "                    remove.add(member);\n",
    "                }\n",
    "                memberList.remove(i);\n",
    "            }\n",
    "        }\n",
    "        return remove;\n",
    "    }\n",
    "}"
   ]
  },
  {
   "cell_type": "markdown",
   "metadata": {},
   "source": [
    "### Part A Explanation\n",
    "In this code block, I had it iterate through each name and add the name and graduation year that is provided and add the default good standing to each person and add it to the memberlist."
   ]
  },
  {
   "cell_type": "markdown",
   "metadata": {},
   "source": [
    "![image](https://github.com/kaiden-dough/kaidencsablog/assets/69410126/2c9ca642-b1ed-412f-89ce-0318222c3e13)"
   ]
  },
  {
   "cell_type": "markdown",
   "metadata": {},
   "source": [
    "## Part B\n",
    "This question wants me to be able to remove members by their graduation year. It wants to record the removed members only if they have good standing."
   ]
  },
  {
   "cell_type": "markdown",
   "metadata": {},
   "source": [
    "### Part B Explanation\n",
    "This one, I had to record the members that had good standing but were getting removed. Also I would remove the members with grad year that is the provided year or lower. Only the good standing are recorded, otherwise it is only deleted."
   ]
  }
 ],
 "metadata": {
  "kernelspec": {
   "display_name": "Java",
   "language": "java",
   "name": "java"
  },
  "language_info": {
   "codemirror_mode": "java",
   "file_extension": ".jshell",
   "mimetype": "text/x-java-source",
   "name": "Java",
   "pygments_lexer": "java",
   "version": "11.0.20+8-post-Ubuntu-1ubuntu120.04"
  },
  "orig_nbformat": 4
 },
 "nbformat": 4,
 "nbformat_minor": 2
}
