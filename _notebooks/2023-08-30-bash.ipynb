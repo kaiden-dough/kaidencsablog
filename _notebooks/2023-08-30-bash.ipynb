{
 "cells": [
  {
   "cell_type": "markdown",
   "metadata": {},
   "source": [
    "---\n",
    "title: Bash Hacks\n",
    "layout: post\n",
    "type: hacks\n",
    "courses: { compsci: {week: 1} }\n",
    "---"
   ]
  },
  {
   "cell_type": "code",
   "execution_count": 6,
   "metadata": {},
   "outputs": [
    {
     "name": "stdout",
     "output_type": "stream",
     "text": [
      "Python is installed.\n",
      "Python Version:\n",
      "Python 3.9.12\n",
      "Java is installed.\n",
      "Java Version:\n",
      "Python 3.9.12\n",
      "Git is installed.\n",
      "Git Version:\n",
      "git version 2.25.1\n",
      "Updating repository from GitHub...\n"
     ]
    },
    {
     "name": "stdout",
     "output_type": "stream",
     "text": [
      "Already up to date.\n",
      "Repository updated.\n",
      "Docker is installed.\n",
      "Docker Version:\n",
      "Docker version 20.10.17, build 100c701\n",
      "Jupyter Notebook is installed.\n",
      "Jupyter Notebook Version:\n",
      "Selected Jupyter core packages...\n",
      "IPython          : 8.2.0\n",
      "ipykernel        : 6.9.1\n",
      "ipywidgets       : 7.6.5\n",
      "jupyter_client   : 6.1.12\n",
      "jupyter_core     : 4.9.2\n",
      "jupyter_server   : 1.13.5\n",
      "jupyterlab       : 3.3.2\n",
      "nbclient         : 0.5.13\n",
      "nbconvert        : 6.4.4\n",
      "nbformat         : 5.3.0\n",
      "notebook         : 6.4.8\n",
      "qtconsole        : 5.3.0\n",
      "traitlets        : 5.1.1\n",
      "VSCode is installed.\n",
      "VSCode Version:\n",
      "1.81.1\n",
      "6c3e3dba23e8fadc360aed75ce363ba185c49794\n",
      "x64\n"
     ]
    }
   ],
   "source": [
    "%%script bash\n",
    "\n",
    "if command -v python &> /dev/null\n",
    "then\n",
    "    echo \"Python is installed.\"\n",
    "    echo \"Python Version:\"\n",
    "    python --version\n",
    "else\n",
    "    echo \"Python is not installed.\"\n",
    "fi\n",
    "\n",
    "if command -v java &> /dev/null\n",
    "then\n",
    "    echo \"Java is installed.\"\n",
    "    echo \"Java Version:\"\n",
    "    python --version\n",
    "else\n",
    "    echo \"Java is not installed.\"\n",
    "fi\n",
    "\n",
    "if command -v git &> /dev/null\n",
    "then\n",
    "    echo \"Git is installed.\"\n",
    "    echo \"Git Version:\"\n",
    "    git --version\n",
    "else\n",
    "    echo \"Git is not installed.\"\n",
    "fi\n",
    "\n",
    "echo \"Updating repository from GitHub...\"\n",
    "cd /home/kaiden_do/vscode/kaidencsablog\n",
    "git pull\n",
    "echo \"Repository updated.\"\n",
    "\n",
    "\n",
    "if command -v docker &> /dev/null\n",
    "then\n",
    "    echo \"Docker is installed.\"\n",
    "    echo \"Docker Version:\"\n",
    "    docker --version\n",
    "else\n",
    "    echo \"Docker is not installed.\"\n",
    "fi\n",
    "\n",
    "if command -v jupyter &> /dev/null\n",
    "then\n",
    "    echo \"Jupyter Notebook is installed.\"\n",
    "    echo \"Jupyter Notebook Version:\"\n",
    "    jupyter --version\n",
    "else\n",
    "    echo \"Jupyter Notebook is not installed.\"\n",
    "fi\n",
    "\n",
    "if command -v code &> /dev/null\n",
    "then\n",
    "    echo \"VSCode is installed.\"\n",
    "    echo \"VSCode Version:\"\n",
    "    code --version\n",
    "else\n",
    "    echo \"VSCode is not installed.\"\n",
    "fi"
   ]
  }
 ],
 "metadata": {
  "kernelspec": {
   "display_name": "base",
   "language": "python",
   "name": "python3"
  },
  "language_info": {
   "codemirror_mode": {
    "name": "ipython",
    "version": 3
   },
   "file_extension": ".py",
   "mimetype": "text/x-python",
   "name": "python",
   "nbconvert_exporter": "python",
   "pygments_lexer": "ipython3",
   "version": "3.9.12"
  },
  "orig_nbformat": 4
 },
 "nbformat": 4,
 "nbformat_minor": 2
}
