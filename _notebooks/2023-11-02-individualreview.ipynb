{
 "cells": [
  {
   "cell_type": "markdown",
   "metadata": {},
   "source": [
    "---\n",
    "toc: true\n",
    "comments: true\n",
    "layout: post\n",
    "title: Kaiden's Individual Review \n",
    "courses: { compsci: {week: 11} }\n",
    "type: tangibles\n",
    "---"
   ]
  },
  {
   "cell_type": "markdown",
   "metadata": {},
   "source": [
    "### Individual Code: Search Button\n",
    "- In this search button, it allows users to look up stocks by their stock symbol\n",
    "- It then displays the open price of the stock and allows them to be go to an analysis page that displays if the stock is good to buy\n",
    "- [Link](https://theoh32.github.io/Stocktify/index)\n",
    "- In this I utilize a function that calls the backend after the user hits enter\n",
    "- It searches the data base for the information based on the stock symbol, then parses for the open, price to print\n",
    "- Then it prints a custom div with id and button that corresponds, this is for when they press the button the program can send proper information through localStorage\n",
    "- Then on the analysis page, the API is called again to get the volume of the stock and the price to input in to the prediction model\n",
    "#### GitHub Analytics\n",
    "- Commit Graph ![](https://cdn.discordapp.com/attachments/917630381208002580/1169857551689592902/image.png?ex=6556edbf&is=654478bf&hm=60ab8c802f809cc78c49de6cf47d5303c885ef7425dfc5373257213c6410ed18&)\n",
    "- Overall Commits ![](https://cdn.discordapp.com/attachments/917630381208002580/1169857641523183777/image.png?ex=6556edd4&is=654478d4&hm=fe3306bbec221c5207029410afcab492a727ef03abdd02354d39bff8b6f57245&)\n",
    "\n",
    "#### Key Commits\n",
    "- Getting the Search to print the results and determining the stock based on the custom id's and button id's ![](https://github.com/TheoH32/Stocktify/commit/4d3e94f61fee701c63ec88f0691c2ecd0f753446)\n",
    "- Integrating the Search with Analysis Page ![](https://github.com/TheoH32/Stocktify/commit/990c995f1e165e2d96684a665ec5efebbce7a44b) "
   ]
  },
  {
   "cell_type": "markdown",
   "metadata": {},
   "source": [
    "### College Board Test\n",
    "For the college board test I got a 38/40 and I did this without looking up anything, but I did not set a time limit on myself and it took my about 2 hours.\n",
    "![](https://cdn.discordapp.com/attachments/917630381208002580/1169847470218563636/image.png?ex=6556e45b&is=65446f5b&hm=1f8936e5374c6670f1f718e342089f2445ed32dd73b9daa85c048963e2639b74&)\n",
    "- Question 22 ![](https://cdn.discordapp.com/attachments/917630381208002580/1169847470478606456/image.png?ex=6556e45b&is=65446f5b&hm=c7c728e4b5f3ec1c4b37d26bb828b90ebb062ecf5c2ac63daff70ed9e3027b63&)![](https://cdn.discordapp.com/attachments/917630381208002580/1169847470797357156/image.png?ex=6556e45b&is=65446f5b&hm=93e594ca762eb029899bc7e275bf0a73f399d34596b23d467b08fa2e924854de&)\n",
    "    - I got this question wrong because I thought that the super. would mess up the code, but the correct answer was B because you can only call methods in the function even if you did the super.\n",
    "- Question 23 ![](https://cdn.discordapp.com/attachments/917630381208002580/1169847471065813072/image.png?ex=6556e45b&is=65446f5b&hm=517c3da5340b88bfb5df467650cb1b4d29e96f8749f1c8e81770807b668d906b&)![](https://cdn.discordapp.com/attachments/917630381208002580/1169847471388770304/image.png?ex=6556e45b&is=65446f5b&hm=6f0d1f87854fe6a84726abccf16a98a49b0544f5430659490089fa79f9293e37&)\n",
    "    - I got this question wrong because I did not fully trace the code, I moved baboon and bass and assumed nothing else would change, but the last iteration had moved baboon back to its original spot."
   ]
  },
  {
   "cell_type": "markdown",
   "metadata": {},
   "source": [
    "### Night At the Museum Peer Grading\n",
    "1. Cosmic Carnage ![](https://cdn.discordapp.com/attachments/917630381208002580/1169823119091957770/IMG_2147.jpg?ex=6556cdad&is=654458ad&hm=c1e72d15c8c11a26d7f844d49bbd3b4ea2d99e9652e73da4a3bab42b756eb6d1&)\n",
    "    - [x] Uses Frontend\n",
    "    - [x] Uses Backend\n",
    "    - [x] Use API\n",
    "    - [x] Agile\n",
    "- HOOK: \n",
    "    - Points: 4\n",
    "    - Reason: The introduction of the project as well as eye catching project was very interesting \n",
    "- KNOWLEDGE: \n",
    "    - Points: 3.8\n",
    "    - Reason: Mostly one person was presenting, but all seemed to understand the project\n",
    "- VALUE:\n",
    "    - Points: 0.9\n",
    "    - Reason: Fun game, but the leaderboard didn't populate\n",
    "- WOW FACTOR: 1\n",
    "    - Reason: The animated front end is a really appealing and nice touch\n",
    "- Total: 9.7/10\n",
    "\n",
    "2. Code Monkeys ![](https://cdn.discordapp.com/attachments/917630381208002580/1169823117447790733/IMG_2150.jpg?ex=6556cdad&is=654458ad&hm=183968199596a2c8ff2765f84399869c213ea788d27c15446dda8f57fdd392df&)\n",
    "    - [x] Uses Frontend\n",
    "    - [x] Uses Backend\n",
    "    - [x] Use API\n",
    "    - [x] Agile\n",
    "- HOOK: \n",
    "    - Points: 3.9\n",
    "    - Reason: The introduction of the project was kind of slow because they were setting it up slowly, but overall very cool idea \n",
    "- KNOWLEDGE: \n",
    "    - Points: 3.9\n",
    "    - Reason: They said that the project was not currently working, which made me question things, but they cleared up the issue quickly\n",
    "- VALUE:\n",
    "    - Points: 1\n",
    "    - Reason: Very cool project and people can learn how to use robots and coding robots\n",
    "- WOW FACTOR: 1\n",
    "    - Reason: I like how it used a raspberry pi\n",
    "- Total: 9.8/10\n",
    "\n",
    "3. WHISP ![](https://cdn.discordapp.com/attachments/917630381208002580/1169823118211166298/IMG_2146.jpg?ex=6556cdad&is=654458ad&hm=1d0391b75ffd1a8a0b8bf4ea6d5fa61950eef34f311edf5df15e56f60a2ffde6&)\n",
    "    - [x] Uses Frontend\n",
    "    - [x] Uses Backend\n",
    "    - [x] Use API\n",
    "    - [x] Agile\n",
    "- HOOK: \n",
    "    - Points: 4\n",
    "    - Reason: Cool graphics and introduction of the project made me very interested \n",
    "- KNOWLEDGE: \n",
    "    - Points: 3.8\n",
    "    - Reason: The project seemed to have many flaws in logic and the rules of the games, but overall very knowledgeable\n",
    "- VALUE:\n",
    "    - Points: 0.8\n",
    "    - Reason: Fun games, but I did not really understand the hitbox game, and the chess game can be found anywhere else for free\n",
    "- WOW FACTOR: 1\n",
    "    - Reason: The live chess game was a cool touch\n",
    "- Total: 9.6/10"
   ]
  },
  {
   "cell_type": "markdown",
   "metadata": {},
   "source": [
    "### Timebox\n",
    "- [Link](https://kaiden-dough.github.io/kaidencsablog/compsci)\n",
    "- I have organized all of my student learning into my timebox of the CSA trimester one\n",
    "- I have done this to ensure my learning of the material is documented and easy to find again for later studying\n",
    "- For future trimesters, I will continue to add to the timebox to map out what I did the whole year as well as be able to study it for the AP test."
   ]
  },
  {
   "cell_type": "markdown",
   "metadata": {},
   "source": [
    "### Trimester 1 Reflection\n",
    "- I really enjoyed the time spent with my team, truly a great team. I believe it is a positive when your team are people you can get along with because the team members are more likely to share ideas, which may improve the project. \n",
    "- Things I have learned:\n",
    "    - Most memorable thing I have learned are ArrayLists or Paaras says Airray. I find this to be avery useful tool for storing data. Since an ArrayList is able to modify the things inside of the ArrayList, it has an advantage over arrays, which are unable to be changed. \n",
    "    - I have also learned about inheritance. This is an important piece of learning because it helps you organize the classes by the super classes and subclasses. This lets you make a super class of general information and the sub class to be much more specific. This is very good because it is neater.\n",
    "- What I hope to learn:\n",
    "    - I hope to learn how to use vectors. The reason I would like to learn vectors is because I heard my brother using it and I tried researching it on my own and I couldn't really find the benefits of using vectors over ArrayLists. So that is why I would like to learn about vectors in Java."
   ]
  }
 ],
 "metadata": {
  "language_info": {
   "name": "python"
  }
 },
 "nbformat": 4,
 "nbformat_minor": 2
}
