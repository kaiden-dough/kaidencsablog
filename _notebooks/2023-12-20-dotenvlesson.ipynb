{
 "cells": [
  {
   "cell_type": "markdown",
   "metadata": {},
   "source": [
    "<h1>DotEnv</h1>"
   ]
  },
  {
   "cell_type": "markdown",
   "metadata": {},
   "source": [
    "### What is DotEnv?\n",
    "- DotEnv is the use of a .env file in a project to manage ____ ____ like API keys, database credentials, and other information. \n",
    "- The term \"dotenv\" is often associated with a specific library or tool that helps load these variables into the application's environment.\n",
    "- Its purpose is to avoid putting sensitive information, such as access tokens, directly into the ____ ____ or ____ ____ and instead it is put in the .env file, which is specific to each environment."
   ]
  },
  {
   "cell_type": "markdown",
   "metadata": {},
   "source": [
    "### To make it work\n",
    "1. Navigate to your project's root directory using the command line:\n",
    "```cd /home/kaiden_d0/vscode/kaidencsablog```\n",
    "2. Initialize a new package.json file for your project:\n",
    "```npm init -y```\n",
    "3. Now, you can install dotenv:\n",
    "```npm install dotenv```"
   ]
  },
  {
   "cell_type": "markdown",
   "metadata": {},
   "source": [
    "![image](https://github.com/CSA-Tri-2/JDK-miniproject/assets/69410126/1a7686be-d69a-4e71-b7f2-97f2b3aff77b)\n",
    "![image](https://github.com/CSA-Tri-2/JDK-miniproject/assets/69410126/35c1781b-3e35-4a53-a003-922cf7931d81)\n",
    "![image](https://github.com/CSA-Tri-2/JDK-miniproject/assets/69410126/fc4178e5-c651-473c-85e7-e3ee36fa3c92)"
   ]
  },
  {
   "cell_type": "markdown",
   "metadata": {},
   "source": [
    "- Make sure to add the .env file to your .gitignore so the sensitive information is not exposed\n",
    "![image](https://github.com/CSA-Tri-2/JDK-miniproject/assets/69410126/e6889427-7e62-4305-b708-a3f300dc6c5d)\n",
    "\n",
    "### Popcorn Hack\n",
    "Make your own .env file, and make the js file display your own secret information (put screenshots)."
   ]
  }
 ],
 "metadata": {
  "kernelspec": {
   "display_name": "Java",
   "language": "java",
   "name": "java"
  },
  "language_info": {
   "codemirror_mode": "java",
   "file_extension": ".jshell",
   "mimetype": "text/x-java-source",
   "name": "Java",
   "pygments_lexer": "java",
   "version": "11.0.17+8-post-Ubuntu-1ubuntu220.04"
  }
 },
 "nbformat": 4,
 "nbformat_minor": 2
}
